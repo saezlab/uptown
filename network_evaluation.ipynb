{
 "cells": [
  {
   "cell_type": "code",
   "execution_count": 1,
   "metadata": {},
   "outputs": [],
   "source": [
    "from evaluation import Eval"
   ]
  },
  {
   "cell_type": "code",
   "execution_count": 2,
   "metadata": {},
   "outputs": [],
   "source": [
    "eval_class = Eval('./results/', 'trynska')"
   ]
  },
  {
   "cell_type": "code",
   "execution_count": 3,
   "metadata": {},
   "outputs": [
    {
     "data": {
      "text/plain": [
       "{'trynska__reachability__pagerank_0.002__reachability__allpaths__sc': <networkx.classes.digraph.DiGraph at 0x7fe2b568a800>,\n",
       " 'trynska__reachability__pagerank_0.007__reachability__allpaths': <networkx.classes.digraph.DiGraph at 0x7fe2b5689030>,\n",
       " 'trynska__reachability__pagerank_0.0__shortest__sc': <networkx.classes.digraph.DiGraph at 0x7fe2b568a6b0>,\n",
       " 'trynska__reachability__pagerank_0.009__shortest__sc': <networkx.classes.digraph.DiGraph at 0x7fe2b568ba30>,\n",
       " 'trynska__reachability__pagerank_0.007__shortest__sc': <networkx.classes.digraph.DiGraph at 0x7fe2b568b010>,\n",
       " 'trynska__reachability__pagerank_0.009__shortest': <networkx.classes.digraph.DiGraph at 0x7fe275545690>,\n",
       " 'trynska__reachability__pagerank_0.004__reachability__allpaths__sc': <networkx.classes.digraph.DiGraph at 0x7fe2755462c0>,\n",
       " 'trynska__reachability__pagerank_0.005__shortest__sc': <networkx.classes.digraph.DiGraph at 0x7fe2755445b0>,\n",
       " 'trynska__reachability__pagerank_0.001__reachability__allpaths': <networkx.classes.digraph.DiGraph at 0x7fe275546410>,\n",
       " 'trynska__reachability__pagerank_0.0__shortest': <networkx.classes.digraph.DiGraph at 0x7fe275546500>,\n",
       " 'trynska__reachability__pagerank_0.006__reachability__allpaths__sc': <networkx.classes.digraph.DiGraph at 0x7fe275546530>,\n",
       " 'trynska__reachability__pagerank_0.002__shortest': <networkx.classes.digraph.DiGraph at 0x7fe2755464d0>,\n",
       " 'trynska__reachability__pagerank_0.008__reachability__allpaths': <networkx.classes.digraph.DiGraph at 0x7fe275546590>,\n",
       " 'trynska__reachability__pagerank_0.006__reachability__allpaths': <networkx.classes.digraph.DiGraph at 0x7fe275546680>,\n",
       " 'trynska__reachability__pagerank_0.01__shortest': <networkx.classes.digraph.DiGraph at 0x7fe2755466b0>,\n",
       " 'trynska__reachability__pagerank_0.004__shortest': <networkx.classes.digraph.DiGraph at 0x7fe275546710>,\n",
       " 'trynska__reachability__pagerank_0.009__reachability__allpaths': <networkx.classes.digraph.DiGraph at 0x7fe275546770>,\n",
       " 'trynska__reachability__pagerank_0.01__shortest__sc': <networkx.classes.digraph.DiGraph at 0x7fe2755467d0>,\n",
       " 'trynska__reachability__pagerank_0.007__reachability__allpaths__sc': <networkx.classes.digraph.DiGraph at 0x7fe275546830>,\n",
       " 'trynska__reachability__pagerank_0.003__shortest__sc': <networkx.classes.digraph.DiGraph at 0x7fe2755467a0>,\n",
       " 'trynska__reachability__pagerank_0.008__shortest': <networkx.classes.digraph.DiGraph at 0x7fe275546890>,\n",
       " 'trynska__reachability__pagerank_0.005__reachability__allpaths': <networkx.classes.digraph.DiGraph at 0x7fe275546980>,\n",
       " 'trynska__reachability__pagerank_0.009__reachability__allpaths__sc': <networkx.classes.digraph.DiGraph at 0x7fe2755469b0>,\n",
       " 'trynska__reachability__pagerank_0.005__reachability__allpaths__sc': <networkx.classes.digraph.DiGraph at 0x7fe275546950>,\n",
       " 'trynska__reachability__pagerank_0.007__shortest': <networkx.classes.digraph.DiGraph at 0x7fe275546a10>,\n",
       " 'trynska__reachability__pagerank_0.003__reachability__allpaths': <networkx.classes.digraph.DiGraph at 0x7fe275546a70>,\n",
       " 'trynska__reachability__pagerank_0.001__shortest__sc': <networkx.classes.digraph.DiGraph at 0x7fe275546b60>,\n",
       " 'trynska__reachability__pagerank_0.004__reachability__allpaths': <networkx.classes.digraph.DiGraph at 0x7fe275546b90>,\n",
       " 'trynska__reachability__pagerank_0.004__shortest__sc': <networkx.classes.digraph.DiGraph at 0x7fe275546bf0>,\n",
       " 'trynska__reachability__pagerank_0.003__reachability__allpaths__sc': <networkx.classes.digraph.DiGraph at 0x7fe275546c50>,\n",
       " 'trynska__reachability__pagerank_0.008__shortest__sc': <networkx.classes.digraph.DiGraph at 0x7fe275546bc0>,\n",
       " 'trynska__reachability__pagerank_0.005__shortest': <networkx.classes.digraph.DiGraph at 0x7fe275546cb0>,\n",
       " 'trynska__reachability__pagerank_0.01__reachability__allpaths__sc': <networkx.classes.digraph.DiGraph at 0x7fe275546da0>,\n",
       " 'trynska__reachability__pagerank_0.001__reachability__allpaths__sc': <networkx.classes.digraph.DiGraph at 0x7fe275546c20>,\n",
       " 'trynska__reachability__pagerank_0.006__shortest': <networkx.classes.digraph.DiGraph at 0x7fe275546dd0>,\n",
       " 'trynska__reachability__pagerank_0.003__shortest': <networkx.classes.digraph.DiGraph at 0x7fe275546e30>,\n",
       " 'trynska__reachability__pagerank_0.002__shortest__sc': <networkx.classes.digraph.DiGraph at 0x7fe275546f20>,\n",
       " 'trynska__reachability__pagerank_0.008__reachability__allpaths__sc': <networkx.classes.digraph.DiGraph at 0x7fe275546f50>,\n",
       " 'trynska__reachability__pagerank_0.006__shortest__sc': <networkx.classes.digraph.DiGraph at 0x7fe275546ef0>,\n",
       " 'trynska__reachability__pagerank_0.01__reachability__allpaths': <networkx.classes.digraph.DiGraph at 0x7fe275546fb0>,\n",
       " 'trynska__reachability__pagerank_0.001__shortest': <networkx.classes.digraph.DiGraph at 0x7fe2755470a0>,\n",
       " 'trynska__reachability__pagerank_0.002__reachability__allpaths': <networkx.classes.digraph.DiGraph at 0x7fe2755470d0>}"
      ]
     },
     "execution_count": 3,
     "metadata": {},
     "output_type": "execute_result"
    }
   ],
   "source": [
    "eval_class.graphs"
   ]
  },
  {
   "cell_type": "code",
   "execution_count": null,
   "metadata": {},
   "outputs": [],
   "source": []
  }
 ],
 "metadata": {
  "kernelspec": {
   "display_name": "mthesis",
   "language": "python",
   "name": "python3"
  },
  "language_info": {
   "codemirror_mode": {
    "name": "ipython",
    "version": 3
   },
   "file_extension": ".py",
   "mimetype": "text/x-python",
   "name": "python",
   "nbconvert_exporter": "python",
   "pygments_lexer": "ipython3",
   "version": "3.10.12"
  },
  "orig_nbformat": 4
 },
 "nbformat": 4,
 "nbformat_minor": 2
}
