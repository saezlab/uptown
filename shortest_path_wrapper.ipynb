{
 "cells": [
  {
   "cell_type": "code",
   "execution_count": 1,
   "metadata": {},
   "outputs": [],
   "source": [
    "import networkx as nx\n",
    "import pandas as pd"
   ]
  },
  {
   "cell_type": "code",
   "execution_count": 321,
   "metadata": {},
   "outputs": [],
   "source": [
    "import networkx as nx\n",
    "import pandas as pd\n",
    "import pygraphviz as pgv\n",
    "\n",
    "class SignedPathSolver:\n",
    "\n",
    "    def __init__(self, G):\n",
    "        self.G = G\n",
    "        self.H = nx.DiGraph()\n",
    "        self.results = None\n",
    "        self.source_dict = {}\n",
    "        self.target_dict = {}\n",
    "        self.sscp_results = None  # Store the Signed-Consistent Shortest Path results\n",
    "\n",
    "\n",
    "    def shortest_signed_paths(self):\n",
    "        sources = list(self.source_dict.keys())\n",
    "        targets = list(self.target_dict.keys())\n",
    "\n",
    "        all_results = {}\n",
    "        sif_tuples = []\n",
    "\n",
    "        for source in sources:\n",
    "            for target in targets:\n",
    "\n",
    "                if source == target:  # Skip when source and target are the same\n",
    "                    continue\n",
    "\n",
    "                shortest_paths_pos = []\n",
    "                shortest_paths_neg = []\n",
    "                shortest_distance_pos = float('inf')\n",
    "                shortest_distance_neg = float('inf')\n",
    "\n",
    "                for path in nx.all_simple_paths(self.G, source, target):\n",
    "                    # Calculate the signed distance of the path\n",
    "                    weights = [self.G[path[i]][path[i+1]]['weight'] for i in range(len(path)-1)]\n",
    "                    abs_sum = sum(abs(w) for w in weights)\n",
    "                    sign_product = int(np.sign(np.prod(weights)))\n",
    "                    signed_distance = abs_sum if sign_product > 0 else -abs_sum\n",
    "\n",
    "                    # Update positive paths if needed\n",
    "                    if signed_distance > 0:\n",
    "                        if signed_distance < shortest_distance_pos:\n",
    "                            shortest_paths_pos = [path]\n",
    "                            shortest_distance_pos = signed_distance\n",
    "                        elif signed_distance == shortest_distance_pos:\n",
    "                            shortest_paths_pos.append(path)\n",
    "                    # Update negative paths if needed\n",
    "                    else:\n",
    "                        if abs(signed_distance) < abs(shortest_distance_neg):\n",
    "                            shortest_paths_neg = [path]\n",
    "                            shortest_distance_neg = signed_distance\n",
    "                        elif signed_distance == shortest_distance_neg:\n",
    "                            shortest_paths_neg.append(path)\n",
    "\n",
    "                # Generate a list of tuples (source, interaction type, target) from the paths\n",
    "                for path in shortest_paths_pos + shortest_paths_neg:\n",
    "                    for i in range(len(path) - 1):\n",
    "                        interaction_type = 'P' if self.G[path[i]][path[i+1]]['weight'] > 0 else 'N'\n",
    "                        sif_tuples.append((path[i], interaction_type, path[i+1]))\n",
    "\n",
    "                # Store the results\n",
    "                all_results[(source, target)] = {\n",
    "                    'positive_path': shortest_paths_pos,\n",
    "                    'positive_distance': shortest_distance_pos,\n",
    "                    'negative_path': shortest_paths_neg,\n",
    "                    'negative_distance': -shortest_distance_neg  # Revert to positive for reporting\n",
    "                }\n",
    "\n",
    "                # Convert sif_tuples to DataFrame\n",
    "        sif_df = pd.DataFrame(sif_tuples, columns=['source', 'interaction', 'target']).drop_duplicates()\n",
    "\n",
    "        self.results = (all_results, sif_df)\n",
    "\n",
    "    def draw_graph(self):\n",
    "        sources = list(self.source_dict.keys())\n",
    "        targets = list(self.target_dict.keys())\n",
    "        # Create a new graph using pygraphviz\n",
    "        A = pgv.AGraph(directed=True, strict=True, rankdir='LR')\n",
    "\n",
    "        # Add nodes to the graph\n",
    "        for node in self.G.nodes():\n",
    "            if node in sources:\n",
    "                A.add_node(node, shape='box', color='blue')\n",
    "            elif node in targets:\n",
    "                A.add_node(node, shape='ellipse', color='green')\n",
    "            else:\n",
    "                A.add_node(node, shape='diamond', color='gray')\n",
    "\n",
    "        # Add edges to the graph with specific colors\n",
    "        for u, v, data in self.G.edges(data=True):\n",
    "            edge_color = 'green' if data['weight'] > 0 else 'red'\n",
    "            A.add_edge(u, v, color=edge_color)\n",
    "\n",
    "        # Render the graph\n",
    "        A.layout(prog='dot')\n",
    "        A.draw('network.png')\n",
    "\n",
    "\n",
    "    def get_subnetwork(self):\n",
    "        if not self.results:\n",
    "            print(\"Please run shortest_signed_paths first.\")\n",
    "            return\n",
    "\n",
    "        H = self.H\n",
    "        all_results = self.results[0]\n",
    "\n",
    "        for key in all_results:\n",
    "            for path in all_results[key]['positive_path']:\n",
    "                for i in range(len(path) - 1):\n",
    "                    H.add_edge(path[i], path[i+1], weight=self.G[path[i]][path[i+1]]['weight'])\n",
    "\n",
    "            for path in all_results[key]['negative_path']:\n",
    "                for i in range(len(path) - 1):\n",
    "                    H.add_edge(path[i], path[i+1], weight=self.G[path[i]][path[i+1]]['weight'])\n",
    "\n",
    "        # Draw the subnetwork H\n",
    "        A = pgv.AGraph(directed=True, strict=True, rankdir='LR')\n",
    "        for node in H.nodes():\n",
    "            if node in list(self.source_dict.keys()):  # Use self.sources and self.targets here\n",
    "                A.add_node(node, shape='box', color='blue')\n",
    "            elif node in list(self.target_dict.keys()):\n",
    "                A.add_node(node, shape='ellipse', color='green')\n",
    "            else:\n",
    "                A.add_node(node, shape='diamond', color='gray')\n",
    "\n",
    "        for u, v, data in H.edges(data=True):\n",
    "            edge_color = 'green' if data['weight'] > 0 else 'red'\n",
    "            A.add_edge(u, v, color=edge_color)\n",
    "\n",
    "        A.layout(prog='dot')\n",
    "        A.draw('subnetwork.png')\n",
    "\n",
    "    def filter_signed_consistent_paths(self):\n",
    "        # Check if the shortest paths are already calculated\n",
    "        if not self.results:\n",
    "            print(\"Please run shortest_signed_paths first.\")\n",
    "            return\n",
    "\n",
    "        filtered_results = {}\n",
    "        all_results = self.results[0]\n",
    "        sif_tuples = []\n",
    "\n",
    "        for (source, target), value in all_results.items():\n",
    "            # Use the provided sign for the source and target, else default to positive\n",
    "            source_sign = self.source_dict.get(source, 1)\n",
    "            target_sign = self.target_dict.get(target, 1)\n",
    "\n",
    "            # Filter positive paths\n",
    "            pos_paths = value['positive_path'] if source_sign * target_sign > 0 else []\n",
    "\n",
    "            # Filter negative paths\n",
    "            neg_paths = value['negative_path'] if source_sign * target_sign < 0 else []\n",
    "\n",
    "            # Update the filtered results dictionary\n",
    "            filtered_results[(source, target)] = {\n",
    "                'positive_path': pos_paths,\n",
    "                'positive_distance': value['positive_distance'],\n",
    "                'negative_path': neg_paths,\n",
    "                'negative_distance': value['negative_distance']\n",
    "            }\n",
    "\n",
    "            # Generate a list of tuples (source, interaction type, target) from the filtered paths\n",
    "            for path in pos_paths + neg_paths:\n",
    "                for i in range(len(path) - 1):\n",
    "                    interaction_type = 'P' if self.G[path[i]][path[i+1]]['weight'] > 0 else 'N'\n",
    "                    sif_tuples.append((path[i], interaction_type, path[i+1]))\n",
    "\n",
    "        # Convert sif_tuples to DataFrame and drop duplicates\n",
    "        sif_df = pd.DataFrame(sif_tuples, columns=['source', 'interaction', 'target']).drop_duplicates()\n",
    "\n",
    "        self.sscp_results = (filtered_results, sif_df)\n",
    "\n",
    "    def get_filtered_subnetwork(self):\n",
    "        if not hasattr(self, 'sscp_results'):\n",
    "            print(\"Please run filter_signed_consistent_paths first.\")\n",
    "            return\n",
    "\n",
    "        H = nx.DiGraph()\n",
    "        all_results = self.sscp_results[0]\n",
    "\n",
    "        for key in all_results:\n",
    "            for path in all_results[key]['positive_path']:\n",
    "                for i in range(len(path) - 1):\n",
    "                    H.add_edge(path[i], path[i+1], weight=self.G[path[i]][path[i+1]]['weight'])\n",
    "\n",
    "            for path in all_results[key]['negative_path']:\n",
    "                for i in range(len(path) - 1):\n",
    "                    H.add_edge(path[i], path[i+1], weight=self.G[path[i]][path[i+1]]['weight'])\n",
    "\n",
    "        \n",
    "        sources = list(self.source_dict.keys())\n",
    "        targets = list(self.target_dict.keys())\n",
    "\n",
    "        # Draw the subnetwork H using graphviz\n",
    "        A = pgv.AGraph(directed=True, strict=True, rankdir='LR')\n",
    "        for node in H.nodes():\n",
    "            if node in sources:\n",
    "                color = 'blue'\n",
    "                # Changed 'red' to 'lightcoral'\n",
    "                fillcolor = 'lightblue' if self.source_dict.get(node, 1) > 0 else 'lightcoral' \n",
    "                A.add_node(node, shape='box', color=color, style='filled', fillcolor=fillcolor)\n",
    "            elif node in targets:\n",
    "                color = 'green'\n",
    "                # Changed 'lightred' to 'lightcoral'\n",
    "                fillcolor = 'lightblue' if self.target_dict.get(node, 1) > 0 else 'lightcoral' \n",
    "                A.add_node(node, shape='ellipse', color=color, style='filled', fillcolor=fillcolor)\n",
    "            else:\n",
    "                A.add_node(node, shape='diamond', color='gray', style='filled', fillcolor='white')\n",
    "\n",
    "\n",
    "        for u, v, data in H.edges(data=True):\n",
    "            edge_color = 'green' if data['weight'] > 0 else 'red'\n",
    "            A.add_edge(u, v, color=edge_color)\n",
    "\n",
    "        A.layout(prog='dot')\n",
    "        A.draw('filtered_subnetwork.png')\n",
    "\n",
    "    def find_negative_cycles(self):\n",
    "        G = self.G\n",
    "        cycles = nx.simple_cycles(G)\n",
    "        negative_cycles = []\n",
    "\n",
    "        for cycle in cycles:\n",
    "            cycle_weight = sum(G[cycle[i]][cycle[i+1]]['weight'] for i in range(len(cycle)-1))\n",
    "            cycle_weight += G[cycle[-1]][cycle[0]]['weight']  # Add the weight connecting the last to the first node\n",
    "            \n",
    "            if cycle_weight < 0:\n",
    "                print(cycle)\n",
    "                negative_cycles.append(cycle)\n",
    "\n",
    "        return negative_cycles\n",
    "\n"
   ]
  },
  {
   "cell_type": "code",
   "execution_count": 330,
   "metadata": {},
   "outputs": [],
   "source": [
    "\n",
    "# Create the network\n",
    "G = nx.DiGraph()\n",
    "G.add_edge('A', 'B', weight=1)\n",
    "G.add_edge('B', 'C', weight=-1)\n",
    "G.add_edge('A', 'D', weight=-1)\n",
    "G.add_edge('D', 'E', weight=1)\n",
    "G.add_edge('E', 'F', weight=-1)\n",
    "G.add_edge('F', 'G', weight=1)\n",
    "G.add_edge('G', 'H', weight=1)\n",
    "G.add_edge('H', 'I', weight=-1)\n",
    "G.add_edge('A', 'I', weight=1)\n",
    "G.add_edge('I', 'J', weight=1)\n",
    "G.add_edge('B', 'J', weight=-1)\n",
    "G.add_edge('J', 'K', weight=1)\n",
    "G.add_edge('A', 'K', weight=1)\n",
    "G.add_edge('K', 'L', weight=-1)\n",
    "G.add_edge('C', 'L', weight=1)\n",
    "G.add_edge('L', 'M', weight=1)\n",
    "G.add_edge('D', 'M', weight=-1)\n",
    "G.add_edge('M', 'N', weight=-1)\n",
    "G.add_edge('F', 'N', weight=1)\n",
    "G.add_edge('N', 'O', weight=1)\n",
    "G.add_edge('X', 'Y', weight=1)  # Dummy nodes\n",
    "G.add_edge('Y', 'Z', weight=-1)  # Dummy nodes\n",
    "\n",
    "G_solver = SignedPathSolver(G)\n",
    "G_solver.source_dict = {'A': -1, 'B': -1, 'D': -1}\n",
    "G_solver.target_dict = {'L': -1, 'N': -1, 'O': -1}\n",
    "G_solver.draw_graph()\n",
    "G_solver.shortest_signed_paths()\n",
    "G_solver.get_subnetwork()\n",
    "G_solver.filter_signed_consistent_paths()\n",
    "G_solver.get_filtered_subnetwork()\n"
   ]
  },
  {
   "cell_type": "code",
   "execution_count": null,
   "metadata": {},
   "outputs": [
    {
     "data": {
      "text/plain": [
       "{('A', 'L'): {'positive_path': [['A', 'B', 'J', 'K', 'L']],\n",
       "  'positive_distance': 4,\n",
       "  'negative_path': [],\n",
       "  'negative_distance': 2},\n",
       " ('A', 'N'): {'positive_path': [],\n",
       "  'positive_distance': 4,\n",
       "  'negative_path': [['A', 'D', 'M', 'N']],\n",
       "  'negative_distance': 3},\n",
       " ('A', 'O'): {'positive_path': [],\n",
       "  'positive_distance': 5,\n",
       "  'negative_path': [['A', 'D', 'M', 'N', 'O']],\n",
       "  'negative_distance': 4},\n",
       " ('B', 'L'): {'positive_path': [['B', 'J', 'K', 'L']],\n",
       "  'positive_distance': 3,\n",
       "  'negative_path': [],\n",
       "  'negative_distance': 2},\n",
       " ('B', 'N'): {'positive_path': [],\n",
       "  'positive_distance': 4,\n",
       "  'negative_path': [['B', 'J', 'K', 'L', 'M', 'N']],\n",
       "  'negative_distance': 5},\n",
       " ('B', 'O'): {'positive_path': [],\n",
       "  'positive_distance': 5,\n",
       "  'negative_path': [['B', 'J', 'K', 'L', 'M', 'N', 'O']],\n",
       "  'negative_distance': 6},\n",
       " ('D', 'L'): {'positive_path': [],\n",
       "  'positive_distance': inf,\n",
       "  'negative_path': [['D', 'E', 'F', 'G', 'H', 'I', 'J', 'K', 'L']],\n",
       "  'negative_distance': 8},\n",
       " ('D', 'N'): {'positive_path': [['D', 'M', 'N']],\n",
       "  'positive_distance': 2,\n",
       "  'negative_path': [],\n",
       "  'negative_distance': 3},\n",
       " ('D', 'O'): {'positive_path': [['D', 'M', 'N', 'O']],\n",
       "  'positive_distance': 3,\n",
       "  'negative_path': [],\n",
       "  'negative_distance': 4}}"
      ]
     },
     "metadata": {},
     "output_type": "display_data"
    }
   ],
   "source": [
    "G_solver.sscp_results[0]"
   ]
  },
  {
   "cell_type": "code",
   "execution_count": null,
   "metadata": {},
   "outputs": [],
   "source": [
    "\n",
    "I = nx.DiGraph()\n",
    "\n",
    "# Adding positive edges\n",
    "I.add_edge('a', 'b', weight=-1)\n",
    "I.add_edge('b', 'c', weight=-1)\n",
    "I.add_edge('c', 'd', weight=1)"
   ]
  },
  {
   "cell_type": "code",
   "execution_count": null,
   "metadata": {},
   "outputs": [],
   "source": [
    "I_solver = SignedPathSolver(I)\n",
    "I_solver.source_dict = {'a': -1}\n",
    "I_solver.target_dict = {'d': -1}\n",
    "I_solver.draw_graph()\n",
    "I_solver.shortest_signed_paths()\n",
    "I_solver.get_subnetwork()\n",
    "I_solver.filter_signed_consistent_paths()\n",
    "I_solver.get_filtered_subnetwork()"
   ]
  },
  {
   "cell_type": "code",
   "execution_count": null,
   "metadata": {},
   "outputs": [],
   "source": [
    "H = nx.DiGraph()\n",
    "\n",
    "# Adding positive edges\n",
    "H.add_edge('a', 'b', weight=-2)\n",
    "H.add_edge('a', 'c', weight=1)\n",
    "H.add_edge('c', 'b', weight=1)\n",
    "H.add_edge('a', 'd', weight=1)\n",
    "H.add_edge('d', 'b', weight=1)"
   ]
  },
  {
   "cell_type": "code",
   "execution_count": null,
   "metadata": {},
   "outputs": [],
   "source": [
    "H_solver = SignedPathSolver(H)\n",
    "H_solver.source_dict = {'a': 1}\n",
    "H_solver.target_dict = {'b': 1}\n",
    "H_solver.draw_graph()\n",
    "H_solver.shortest_signed_paths()\n",
    "H_solver.get_subnetwork()\n",
    "H_solver.filter_signed_consistent_paths()\n",
    "H_solver.get_filtered_subnetwork()"
   ]
  },
  {
   "cell_type": "code",
   "execution_count": null,
   "metadata": {},
   "outputs": [
    {
     "data": {
      "text/plain": [
       "({('a', 'b'): {'positive_path': [['a', 'c', 'b'], ['a', 'd', 'b']],\n",
       "   'positive_distance': 2,\n",
       "   'negative_path': [['a', 'b']],\n",
       "   'negative_distance': 2}},\n",
       "   source interaction target\n",
       " 0      a           P      c\n",
       " 1      c           P      b\n",
       " 2      a           P      d\n",
       " 3      d           P      b\n",
       " 4      a           N      b)"
      ]
     },
     "metadata": {},
     "output_type": "display_data"
    }
   ],
   "source": [
    "H_solver.results"
   ]
  },
  {
   "cell_type": "markdown",
   "metadata": {},
   "source": [
    "## Trynska"
   ]
  },
  {
   "cell_type": "code",
   "execution_count": 181,
   "metadata": {},
   "outputs": [],
   "source": [
    "collectri = pd.read_csv('network_collectri.sif', sep='\\t')\n",
    "data_col = collectri.pop('data')\n",
    "collectri.insert(2, 'data', data_col)\n",
    "collectri.to_csv('collectri_network_sscp.sif', sep='\\t', index=None)"
   ]
  },
  {
   "cell_type": "code",
   "execution_count": 192,
   "metadata": {},
   "outputs": [
    {
     "data": {
      "text/html": [
       "<div>\n",
       "<style scoped>\n",
       "    .dataframe tbody tr th:only-of-type {\n",
       "        vertical-align: middle;\n",
       "    }\n",
       "\n",
       "    .dataframe tbody tr th {\n",
       "        vertical-align: top;\n",
       "    }\n",
       "\n",
       "    .dataframe thead th {\n",
       "        text-align: right;\n",
       "    }\n",
       "</style>\n",
       "<table border=\"1\" class=\"dataframe\">\n",
       "  <thead>\n",
       "    <tr style=\"text-align: right;\">\n",
       "      <th></th>\n",
       "      <th>0</th>\n",
       "      <th>2</th>\n",
       "    </tr>\n",
       "  </thead>\n",
       "  <tbody>\n",
       "    <tr>\n",
       "      <th>0</th>\n",
       "      <td>CINP</td>\n",
       "      <td>+</td>\n",
       "    </tr>\n",
       "    <tr>\n",
       "      <th>1</th>\n",
       "      <td>ATP1B1</td>\n",
       "      <td>+</td>\n",
       "    </tr>\n",
       "    <tr>\n",
       "      <th>2</th>\n",
       "      <td>DNAJC12</td>\n",
       "      <td>+</td>\n",
       "    </tr>\n",
       "    <tr>\n",
       "      <th>3</th>\n",
       "      <td>SCCPDH</td>\n",
       "      <td>+</td>\n",
       "    </tr>\n",
       "    <tr>\n",
       "      <th>4</th>\n",
       "      <td>IDS</td>\n",
       "      <td>+</td>\n",
       "    </tr>\n",
       "    <tr>\n",
       "      <th>...</th>\n",
       "      <td>...</td>\n",
       "      <td>...</td>\n",
       "    </tr>\n",
       "    <tr>\n",
       "      <th>95</th>\n",
       "      <td>IKZF1</td>\n",
       "      <td>-</td>\n",
       "    </tr>\n",
       "    <tr>\n",
       "      <th>96</th>\n",
       "      <td>SDHD</td>\n",
       "      <td>+</td>\n",
       "    </tr>\n",
       "    <tr>\n",
       "      <th>97</th>\n",
       "      <td>RASGRP3</td>\n",
       "      <td>+</td>\n",
       "    </tr>\n",
       "    <tr>\n",
       "      <th>98</th>\n",
       "      <td>BIRC6</td>\n",
       "      <td>-</td>\n",
       "    </tr>\n",
       "    <tr>\n",
       "      <th>99</th>\n",
       "      <td>LDLR</td>\n",
       "      <td>-</td>\n",
       "    </tr>\n",
       "  </tbody>\n",
       "</table>\n",
       "<p>100 rows × 2 columns</p>\n",
       "</div>"
      ],
      "text/plain": [
       "          0  2\n",
       "0      CINP  +\n",
       "1    ATP1B1  +\n",
       "2   DNAJC12  +\n",
       "3    SCCPDH  +\n",
       "4       IDS  +\n",
       "..      ... ..\n",
       "95    IKZF1  -\n",
       "96     SDHD  +\n",
       "97  RASGRP3  +\n",
       "98    BIRC6  -\n",
       "99     LDLR  -\n",
       "\n",
       "[100 rows x 2 columns]"
      ]
     },
     "execution_count": 192,
     "metadata": {},
     "output_type": "execute_result"
    }
   ],
   "source": [
    "target_df = pd.read_csv('downstream_hits.tsv', sep='\\t', header=None)\n",
    "target_df.drop(1, inplace=True, axis=1)\n",
    "target_df"
   ]
  },
  {
   "cell_type": "code",
   "execution_count": 200,
   "metadata": {},
   "outputs": [],
   "source": [
    "target_df[2].replace({'+': 1, '-': -1}, inplace=True)\n",
    "\n",
    "target_dict = target_df.set_index(0)[2].to_dict()"
   ]
  },
  {
   "cell_type": "code",
   "execution_count": 326,
   "metadata": {},
   "outputs": [],
   "source": [
    "H = nx.read_weighted_edgelist('collectri_network_sscp.sif', delimiter = '\\t', create_using = nx.DiGraph)"
   ]
  },
  {
   "cell_type": "code",
   "execution_count": 331,
   "metadata": {},
   "outputs": [
    {
     "ename": "KeyboardInterrupt",
     "evalue": "",
     "output_type": "error",
     "traceback": [
      "\u001b[0;31m---------------------------------------------------------------------------\u001b[0m",
      "\u001b[0;31mKeyboardInterrupt\u001b[0m                         Traceback (most recent call last)",
      "Cell \u001b[0;32mIn[331], line 7\u001b[0m\n\u001b[1;32m      5\u001b[0m solver\u001b[39m.\u001b[39msource_dict \u001b[39m=\u001b[39m {\u001b[39m'\u001b[39m\u001b[39mTGFB1\u001b[39m\u001b[39m'\u001b[39m: \u001b[39m1\u001b[39m, \u001b[39m'\u001b[39m\u001b[39mTGFB2\u001b[39m\u001b[39m'\u001b[39m: \u001b[39m1\u001b[39m, \u001b[39m'\u001b[39m\u001b[39mTGFB3\u001b[39m\u001b[39m'\u001b[39m: \u001b[39m1\u001b[39m, \u001b[39m'\u001b[39m\u001b[39mIL2\u001b[39m\u001b[39m'\u001b[39m: \u001b[39m1\u001b[39m}\n\u001b[1;32m      6\u001b[0m solver\u001b[39m.\u001b[39mtarget_dict \u001b[39m=\u001b[39m target_dict\n\u001b[0;32m----> 7\u001b[0m solver\u001b[39m.\u001b[39;49mshortest_signed_paths()\n\u001b[1;32m      8\u001b[0m solver\u001b[39m.\u001b[39mget_subnetwork()\n\u001b[1;32m      9\u001b[0m solver\u001b[39m.\u001b[39mfilter_signed_consistent_paths()\n",
      "Cell \u001b[0;32mIn[321], line 34\u001b[0m, in \u001b[0;36mSignedPathSolver.shortest_signed_paths\u001b[0;34m(self)\u001b[0m\n\u001b[1;32m     31\u001b[0m shortest_distance_pos \u001b[39m=\u001b[39m \u001b[39mfloat\u001b[39m(\u001b[39m'\u001b[39m\u001b[39minf\u001b[39m\u001b[39m'\u001b[39m)\n\u001b[1;32m     32\u001b[0m shortest_distance_neg \u001b[39m=\u001b[39m \u001b[39mfloat\u001b[39m(\u001b[39m'\u001b[39m\u001b[39minf\u001b[39m\u001b[39m'\u001b[39m)\n\u001b[0;32m---> 34\u001b[0m \u001b[39mfor\u001b[39;00m path \u001b[39min\u001b[39;00m nx\u001b[39m.\u001b[39mall_simple_paths(\u001b[39mself\u001b[39m\u001b[39m.\u001b[39mG, source, target):\n\u001b[1;32m     35\u001b[0m     \u001b[39m# Calculate the signed distance of the path\u001b[39;00m\n\u001b[1;32m     36\u001b[0m     weights \u001b[39m=\u001b[39m [\u001b[39mself\u001b[39m\u001b[39m.\u001b[39mG[path[i]][path[i\u001b[39m+\u001b[39m\u001b[39m1\u001b[39m]][\u001b[39m'\u001b[39m\u001b[39mweight\u001b[39m\u001b[39m'\u001b[39m] \u001b[39mfor\u001b[39;00m i \u001b[39min\u001b[39;00m \u001b[39mrange\u001b[39m(\u001b[39mlen\u001b[39m(path)\u001b[39m-\u001b[39m\u001b[39m1\u001b[39m)]\n\u001b[1;32m     37\u001b[0m     abs_sum \u001b[39m=\u001b[39m \u001b[39msum\u001b[39m(\u001b[39mabs\u001b[39m(w) \u001b[39mfor\u001b[39;00m w \u001b[39min\u001b[39;00m weights)\n",
      "File \u001b[0;32m~/.local/lib/python3.10/site-packages/networkx/algorithms/simple_paths.py:284\u001b[0m, in \u001b[0;36m_all_simple_paths_graph\u001b[0;34m(G, source, targets, cutoff)\u001b[0m\n\u001b[1;32m    282\u001b[0m     \u001b[39myield\u001b[39;00m \u001b[39mlist\u001b[39m(visited) \u001b[39m+\u001b[39m [child]\n\u001b[1;32m    283\u001b[0m visited[child] \u001b[39m=\u001b[39m \u001b[39mTrue\u001b[39;00m\n\u001b[0;32m--> 284\u001b[0m \u001b[39mif\u001b[39;00m targets \u001b[39m-\u001b[39m \u001b[39mset\u001b[39;49m(visited\u001b[39m.\u001b[39;49mkeys()):  \u001b[39m# expand stack until find all targets\u001b[39;00m\n\u001b[1;32m    285\u001b[0m     stack\u001b[39m.\u001b[39mappend(\u001b[39miter\u001b[39m(G[child]))\n\u001b[1;32m    286\u001b[0m \u001b[39melse\u001b[39;00m:\n",
      "\u001b[0;31mKeyboardInterrupt\u001b[0m: "
     ]
    }
   ],
   "source": [
    "# There are negative cycles in the PK that still need to be addressed. \n",
    "\n",
    "solver = SignedPathSolver(H)\n",
    "'TGFB1', 'TGFB3', 'TGFB2', 'IL2'\n",
    "solver.source_dict = {'TGFB1': 1, 'TGFB2': 1, 'TGFB3': 1, 'IL2': 1}\n",
    "solver.target_dict = target_dict\n",
    "solver.shortest_signed_paths()\n",
    "solver.get_subnetwork()\n",
    "solver.filter_signed_consistent_paths()\n",
    "solver.get_filtered_subnetwork()"
   ]
  },
  {
   "cell_type": "code",
   "execution_count": 328,
   "metadata": {},
   "outputs": [],
   "source": [
    "negative_cycle = nx.find_cycle(solver.G)\n"
   ]
  },
  {
   "cell_type": "code",
   "execution_count": 329,
   "metadata": {},
   "outputs": [
    {
     "data": {
      "text/plain": [
       "[('TRPC1', 'TRPC3'), ('TRPC3', 'TRPC1')]"
      ]
     },
     "execution_count": 329,
     "metadata": {},
     "output_type": "execute_result"
    }
   ],
   "source": [
    "negative_cycle"
   ]
  },
  {
   "cell_type": "code",
   "execution_count": 240,
   "metadata": {},
   "outputs": [
    {
     "data": {
      "text/plain": [
       "{'weight': 1.0}"
      ]
     },
     "execution_count": 240,
     "metadata": {},
     "output_type": "execute_result"
    }
   ],
   "source": [
    "H.get_edge_data('TRPC1', 'PKD2')"
   ]
  },
  {
   "cell_type": "code",
   "execution_count": 241,
   "metadata": {},
   "outputs": [
    {
     "data": {
      "text/plain": [
       "{'weight': 1.0}"
      ]
     },
     "execution_count": 241,
     "metadata": {},
     "output_type": "execute_result"
    }
   ],
   "source": [
    "H.get_edge_data('PKD2', 'TRPV4')"
   ]
  },
  {
   "cell_type": "code",
   "execution_count": 245,
   "metadata": {},
   "outputs": [],
   "source": [
    "H.remove_edge('TRPV6', 'TRPV5')"
   ]
  },
  {
   "cell_type": "code",
   "execution_count": null,
   "metadata": {},
   "outputs": [],
   "source": []
  },
  {
   "cell_type": "code",
   "execution_count": null,
   "metadata": {},
   "outputs": [],
   "source": []
  },
  {
   "cell_type": "code",
   "execution_count": null,
   "metadata": {},
   "outputs": [],
   "source": []
  }
 ],
 "metadata": {
  "kernelspec": {
   "display_name": "Python 3",
   "language": "python",
   "name": "python3"
  },
  "language_info": {
   "codemirror_mode": {
    "name": "ipython",
    "version": 3
   },
   "file_extension": ".py",
   "mimetype": "text/x-python",
   "name": "python",
   "nbconvert_exporter": "python",
   "pygments_lexer": "ipython3",
   "version": "3.10.6"
  },
  "orig_nbformat": 4
 },
 "nbformat": 4,
 "nbformat_minor": 2
}
