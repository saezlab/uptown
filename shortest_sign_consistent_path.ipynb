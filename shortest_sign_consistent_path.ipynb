{
 "cells": [
  {
   "cell_type": "code",
   "execution_count": 42,
   "metadata": {},
   "outputs": [],
   "source": [
    "import heapq\n",
    "import pandas as pd\n",
    "import sys\n",
    "import numpy as np"
   ]
  },
  {
   "cell_type": "code",
   "execution_count": 48,
   "metadata": {},
   "outputs": [],
   "source": [
    "class Node:\n",
    "    # initialises the Node class with the following attributes\n",
    "    def __init__(self, node_id):\n",
    "        self.id = node_id\n",
    "        self.adjacent = {}\n",
    "        self.distance = sys.maxsize\n",
    "        self.visited = False\n",
    "        self.parent_node = None\n",
    "    \n",
    "    # adds an adjacent node with a given weight to the interaction\n",
    "    def add_adjacent(self, adjacent_node, weight = 1):\n",
    "        self.adjacent[adjacent_node] = weight\n",
    "    \n",
    "    def get_weight(self, adjacent_node):\n",
    "        return self.adjacent[adjacent_node]\n",
    "    \n",
    "    # sets the distance from the source node to a given node\n",
    "    def set_distance(self, dist):\n",
    "        self.distance = dist\n",
    "\n",
    "    # sets the parent node\n",
    "    def set_parentnode(self, parent_node):\n",
    "        self.parent_node = parent_node\n",
    "    \n",
    "    # indicates if the node has been visited by the algorithm\n",
    "    def set_visited(self):\n",
    "        self.visited = True\n",
    "    \n",
    "    # sets the proper way to compare classes\n",
    "    def __le__(self, other):\n",
    "        return self.distance <= other.distance\n",
    "    \n",
    "    def __lt__(self, other):\n",
    "        return self.distance < other.distance\n",
    "    \n",
    "class SignedNode(Node):\n",
    "\n",
    "    def __init__(self, node_id):\n",
    "        super().__init__(node_id)\n",
    "        self.distances = {1:sys.maxsize, -1:sys.maxsize}\n",
    "        self.adjacent_signs = {}\n",
    "        self.parent_nodes = {1: None, -1: None}\n",
    "    \n",
    "    def add_sign(self, adjacent_node, sign = 1):\n",
    "        self.adjacent_signs[adjacent_node] = sign\n",
    "    \n",
    "    def get_sign(self, adjacent_node):\n",
    "        return self.adjacent_signs[adjacent_node]\n",
    "\n",
    "class Network:\n",
    "    def __init__(self, sourcenodes):\n",
    "        self.source_nodes = sourcenodes\n",
    "        self.target_nodes = []\n",
    "        self.net = pd.DataFrame()\n",
    "    \n",
    "    def add_targetnodes(self, node_id):\n",
    "        self.target_nodes.append(node_id)\n",
    "    \n",
    "class Graph:\n",
    "\n",
    "    def __init__(self):\n",
    "        self.nodes_dict = {}\n",
    "        self.num_nodes = 0\n",
    "        self.subnetwork = ()\n",
    "    \n",
    "    def __iter__(self):\n",
    "        return iter(self.nodes_dict.values())\n",
    "\n",
    "    # creates a Node object and appends it to the nodes dictionary in the Graph class\n",
    "    # it also counts up the number of nodes in the graph\n",
    "    def add_node(self, node_id):\n",
    "        self.num_nodes =+ 1\n",
    "        new_node = Node(node_id)\n",
    "        self.nodes_dict[node_id] = new_node\n",
    "        return new_node\n",
    "    \n",
    "    def get_node(self, node_id):\n",
    "        if node_id in self.nodes_dict:\n",
    "            return self.nodes_dict[node_id]\n",
    "        else:\n",
    "            print('The node {} could not be found in the network!'.format(node_id))\n",
    "            return None\n",
    "    \n",
    "    # adds an edge between a source node and a target node, and a weight ruling that interaction\n",
    "    # If a Node class is not available for that node name, it creates one.\n",
    "    # last, it adds to the adjacent attribute from the source Node class a dictionary item containing the target node id and the weight.\n",
    "    def add_edge(self, source, target, weight = 1):\n",
    "        if source not in self.nodes_dict:\n",
    "            self.add_node(source)\n",
    "        if target not in self.nodes_dict:\n",
    "            self.add_node(target)\n",
    "        \n",
    "        self.nodes_dict[source].add_adjacent(self.nodes_dict[target], weight)\n",
    "    \n",
    "    def read_sif(self, path):\n",
    "        network_df = pd.read_csv(path, sep='\\t')\n",
    "        for index, row in network_df.iterrows():\n",
    "            self.add_edge(row['source'], row['target'], row['weight'])\n",
    "    \n",
    "    def dijkstra_solver(self, start_node):\n",
    "        # Set the distance for the start node to zero \n",
    "        start_node.distance = 0\n",
    "\n",
    "        # Priority queue, it gets the node with the smallest distance from the list within the unvisited nodes\n",
    "        unvisited_queue = [(node.distance, node) for node in self]\n",
    "        heapq.heapify(unvisited_queue)\n",
    "\n",
    "        while len(unvisited_queue):\n",
    "            # gets the node with the smallest distance \n",
    "            clostest_node = heapq.heappop(unvisited_queue)\n",
    "            current_node = clostest_node[1]\n",
    "            current_node.set_visited()\n",
    "\n",
    "            # checks the adjacent nodes, doesn't recheck if visited.\n",
    "            # it relaxes the edges by checking if there are quicker paths to a node than the ones already explored\n",
    "            for adjacent_node in current_node.adjacent:\n",
    "                if adjacent_node.visited:\n",
    "                    continue\n",
    "                new_dist = current_node.distance + current_node.get_weight(adjacent_node)\n",
    "                \n",
    "                if new_dist < adjacent_node.distance:\n",
    "                    adjacent_node.set_distance(new_dist)\n",
    "                    adjacent_node.parent_node = current_node\n",
    "\n",
    "            # Rebuild the quieue\n",
    "            # empty the list\n",
    "            while len(unvisited_queue):\n",
    "                heapq.heappop(unvisited_queue)\n",
    "            # resets the queue\n",
    "            unvisited_queue = [(node.distance, node) for node in self if not node.visited]\n",
    "            heapq.heapify(unvisited_queue)\n",
    "    \n",
    "    # it gets a node, gets the name of the parent and appends it to a tuple. \n",
    "    def shortest_path(self, node, path):\n",
    "        if node.parent_node:\n",
    "            path.append(node.parent_node.id)\n",
    "            self.shortest_path(node.parent_node, path)\n",
    "        return\n",
    "    \n",
    "    def get_subnetwork(self, start_ids, downstream_nodes):\n",
    "        self.subnetwork = Network(start_ids)\n",
    "        for start_id in start_ids:\n",
    "            start_node = self.get_node(start_id)\n",
    "            self.dijkstra_solver(start_node)\n",
    "            # \n",
    "            for node in downstream_nodes:\n",
    "                target = self.get_node(node)\n",
    "                if target is None: continue\n",
    "                if node not in self.subnetwork.target_nodes: self.subnetwork.add_targetnodes(node) \n",
    "                path = [target.id]\n",
    "                self.shortest_path(target, path)\n",
    "                path.reverse()\n",
    "                for i in range(0, len(path)-1):\n",
    "                    new_row = pd.Series({'source': path[i], 'int': 'N', 'target': path[i+1]})\n",
    "                    self.subnetwork.net = pd.concat([self.subnetwork.net, new_row.to_frame().T])\n",
    "            self.subnetwork.net.drop_duplicates(inplace=True)\n",
    "\n",
    "\n",
    "class SignedGraph(Graph):\n",
    "    def __init__(self):\n",
    "        super().__init__()\n",
    "\n",
    "    def add_signednode(self, node_id):\n",
    "        self.num_nodes =+ 1\n",
    "        new_node = SignedNode(node_id)\n",
    "        self.nodes_dict[node_id] = new_node\n",
    "        return new_node\n",
    "    \n",
    "    def add_signededge(self, source, target, weight):\n",
    "        if source not in self.nodes_dict:\n",
    "            self.add_signednode(source)\n",
    "        if target not in self.nodes_dict:\n",
    "            self.add_signednode(target)\n",
    "\n",
    "        self.nodes_dict[source].add_adjacent(self.nodes_dict[target], abs(weight))\n",
    "        self.nodes_dict[source].add_sign(self.nodes_dict[target], np.sign(weight))\n",
    "        \n",
    "    def read_signed_sif(self, path):\n",
    "        network_df = pd.read_csv(path, sep='\\t')\n",
    "        for index, row in network_df.iterrows():\n",
    "            self.add_signededge(row['source'], row['target'], row['weight'])\n",
    "    \n",
    "    def double_label(self, start_node):\n",
    "        start_node.distances =  {1: 0, -1: sys.maxsize}\n",
    "\n",
    "        # Priority queue, it gets the node with the smallest distance from the list within the unvisited nodes\n",
    "        unvisited_queue = [(min(node.distances[1], node.distances[-1]), node) for node in self]\n",
    "        heapq.heapify(unvisited_queue)\n",
    "\n",
    "        while len(unvisited_queue):\n",
    "            # gets the node with the smallest distance \n",
    "            clostest_node = heapq.heappop(unvisited_queue)\n",
    "            current_node = clostest_node[1]\n",
    "            current_node.set_visited()\n",
    "            \n",
    "            # checks the adjacent nodes, doesn't recheck if visited.\n",
    "            # it relaxes the edges by checking if there are quicker paths to a node than the ones already explored\n",
    "            for adjacent_node in current_node.adjacent:\n",
    "                # if adjacent_node.visited:\n",
    "                #     continue\n",
    "                \n",
    "                adj_sign = current_node.get_sign(adjacent_node)\n",
    "\n",
    "\n",
    "\n",
    "                if adjacent_node.distances[adj_sign] > (current_node.distances[adj_sign] + current_node.get_weight(adjacent_node)) and adj_sign == 1:\n",
    "                        adjacent_node.distances[adj_sign] = current_node.distances[adj_sign] + current_node.get_weight(adjacent_node)\n",
    "                        adjacent_node.parent_nodes[adj_sign] = current_node\n",
    "\n",
    "                \n",
    "                if adjacent_node.distances[-adj_sign] > (current_node.distances[-adj_sign] + current_node.get_weight(adjacent_node)) and adj_sign == 1:\n",
    "                        adjacent_node.distances[-adj_sign] = current_node.distances[-adj_sign] + current_node.get_weight(adjacent_node)\n",
    "                        adjacent_node.parent_nodes[-adj_sign] = current_node\n",
    "                \n",
    "                if adjacent_node.distances[-adj_sign] > (current_node.distances[adj_sign] + current_node.get_weight(adjacent_node)) and adj_sign == -1:\n",
    "                        adjacent_node.distances[-adj_sign] = current_node.distances[adj_sign] + current_node.get_weight(adjacent_node)\n",
    "                        adjacent_node.parent_nodes[-adj_sign] = current_node\n",
    "                \n",
    "                if adjacent_node.distances[adj_sign] > (current_node.distances[-adj_sign] + current_node.get_weight(adjacent_node)) and adj_sign == -1:\n",
    "                        adjacent_node.distances[adj_sign] = current_node.distances[-adj_sign] + current_node.get_weight(adjacent_node)\n",
    "                        adjacent_node.parent_nodes[adj_sign] = current_node\n",
    "\n",
    "            # Rebuild the quieue\n",
    "            # empty the list\n",
    "            # while len(unvisited_queue):\n",
    "            #     heapq.heappop(unvisited_queue)\n",
    "            # resets the queue\n",
    "            unvisited_queue = [(node.distance, node) for node in self if not node.visited]\n",
    "            heapq.heapify(unvisited_queue)\n",
    "\n",
    "    def shortest_pos_path(self, node, path):\n",
    "        if node.parent_nodes[1]:\n",
    "            print(node.parent_nodes[1])\n",
    "            path[1].append(node.parent_nodes[1].id)\n",
    "            self.shortest_pos_path(node.parent_nodes[1], path)\n",
    "        return\n",
    "\n",
    "    def shortest_neg_path(self, node, path):\n",
    "        if node.parent_nodes[-1]:\n",
    "            print(node.parent_nodes[-1])\n",
    "            path[-1].append(node.parent_nodes[-1].id)\n",
    "            self.shortest_neg_path(node.parent_nodes[-1], path)\n",
    "        return\n",
    "    \n",
    "    def get_signed_subnetwork(self, start_ids, downstream_nodes):\n",
    "        self.subnetwork = Network(start_ids)\n",
    "        for start_id in start_ids:\n",
    "            start_node = self.get_node(start_id)\n",
    "            self.double_label(start_node)\n",
    "    \n",
    "            for node in list(downstream_nodes.keys()):\n",
    "                target = self.get_node(node)\n",
    "                if target is None: continue\n",
    "                if node not in self.subnetwork.target_nodes: self.subnetwork.add_targetnodes(node) \n",
    "                path = {1:[target.id], -1:[target.id]}\n",
    "                if np.sign(downstream_nodes[node]) == 1:\n",
    "                    self.shortest_pos_path(target, path)\n",
    "                    if len(path[1]) < 2: continue\n",
    "                    path[1].reverse()\n",
    "                    print(path[1])\n",
    "                    for i in range(0, len(path[1])-1):\n",
    "                        print(i)\n",
    "                        print(self.get_node(path[1][i]).adjacent.id)\n",
    "                        sign = self.get_node(path[1][i]).get_sign(path[1][i+1])\n",
    "                        new_row = pd.Series({'source': path[1][i], 'int': sign, 'target': path[1][i+1]})\n",
    "                        self.subnetwork.net = pd.concat([self.subnetwork.net, new_row.to_frame().T])\n",
    "                elif np.sign(downstream_nodes[node]) == -1:\n",
    "                    self.shortest_neg_path(target, path)\n",
    "                    if len(path[-1]) < 2: continue\n",
    "                    path[-1].reverse()\n",
    "                    print(path[-1])\n",
    "                    for i in range(0, len(path[-1])-1):\n",
    "                        print(i)\n",
    "                        print(path[-1][i])\n",
    "                        sign = self.get_node(path[-1][i]).get_sign(path[-1][i+1])\n",
    "                        new_row = pd.Series({'source': path[-1][i], 'int': sign, 'target': path[-1][i+1]})\n",
    "                        self.subnetwork.net = pd.concat([self.subnetwork.net, new_row.to_frame().T])\n",
    "\n",
    "            self.subnetwork.net.drop_duplicates(inplace=True)\n"
   ]
  },
  {
   "cell_type": "code",
   "execution_count": 59,
   "metadata": {},
   "outputs": [
    {
     "data": {
      "text/html": [
       "<div>\n",
       "<style scoped>\n",
       "    .dataframe tbody tr th:only-of-type {\n",
       "        vertical-align: middle;\n",
       "    }\n",
       "\n",
       "    .dataframe tbody tr th {\n",
       "        vertical-align: top;\n",
       "    }\n",
       "\n",
       "    .dataframe thead th {\n",
       "        text-align: right;\n",
       "    }\n",
       "</style>\n",
       "<table border=\"1\" class=\"dataframe\">\n",
       "  <thead>\n",
       "    <tr style=\"text-align: right;\">\n",
       "      <th></th>\n",
       "      <th>source</th>\n",
       "      <th>weight</th>\n",
       "      <th>target</th>\n",
       "    </tr>\n",
       "  </thead>\n",
       "  <tbody>\n",
       "    <tr>\n",
       "      <th>0</th>\n",
       "      <td>CALM1</td>\n",
       "      <td>-1</td>\n",
       "      <td>TRPC1</td>\n",
       "    </tr>\n",
       "    <tr>\n",
       "      <th>1</th>\n",
       "      <td>CALM3</td>\n",
       "      <td>-1</td>\n",
       "      <td>TRPC1</td>\n",
       "    </tr>\n",
       "    <tr>\n",
       "      <th>2</th>\n",
       "      <td>CALM2</td>\n",
       "      <td>-1</td>\n",
       "      <td>TRPC1</td>\n",
       "    </tr>\n",
       "    <tr>\n",
       "      <th>3</th>\n",
       "      <td>CAV1</td>\n",
       "      <td>1</td>\n",
       "      <td>TRPC1</td>\n",
       "    </tr>\n",
       "    <tr>\n",
       "      <th>4</th>\n",
       "      <td>MDFI</td>\n",
       "      <td>-1</td>\n",
       "      <td>TRPC1</td>\n",
       "    </tr>\n",
       "    <tr>\n",
       "      <th>...</th>\n",
       "      <td>...</td>\n",
       "      <td>...</td>\n",
       "      <td>...</td>\n",
       "    </tr>\n",
       "    <tr>\n",
       "      <th>81749</th>\n",
       "      <td>NFKB</td>\n",
       "      <td>1</td>\n",
       "      <td>hsa-miR-143-3p</td>\n",
       "    </tr>\n",
       "    <tr>\n",
       "      <th>81750</th>\n",
       "      <td>AP1</td>\n",
       "      <td>1</td>\n",
       "      <td>hsa-miR-206</td>\n",
       "    </tr>\n",
       "    <tr>\n",
       "      <th>81751</th>\n",
       "      <td>NFKB</td>\n",
       "      <td>1</td>\n",
       "      <td>hsa-miR-21-5p</td>\n",
       "    </tr>\n",
       "    <tr>\n",
       "      <th>81752</th>\n",
       "      <td>NFKB</td>\n",
       "      <td>1</td>\n",
       "      <td>hsa-miR-224-5p</td>\n",
       "    </tr>\n",
       "    <tr>\n",
       "      <th>81753</th>\n",
       "      <td>AP1</td>\n",
       "      <td>1</td>\n",
       "      <td>hsa-miR-144</td>\n",
       "    </tr>\n",
       "  </tbody>\n",
       "</table>\n",
       "<p>81754 rows × 3 columns</p>\n",
       "</div>"
      ],
      "text/plain": [
       "      source  weight          target\n",
       "0      CALM1      -1           TRPC1\n",
       "1      CALM3      -1           TRPC1\n",
       "2      CALM2      -1           TRPC1\n",
       "3       CAV1       1           TRPC1\n",
       "4       MDFI      -1           TRPC1\n",
       "...      ...     ...             ...\n",
       "81749   NFKB       1  hsa-miR-143-3p\n",
       "81750    AP1       1     hsa-miR-206\n",
       "81751   NFKB       1   hsa-miR-21-5p\n",
       "81752   NFKB       1  hsa-miR-224-5p\n",
       "81753    AP1       1     hsa-miR-144\n",
       "\n",
       "[81754 rows x 3 columns]"
      ]
     },
     "execution_count": 59,
     "metadata": {},
     "output_type": "execute_result"
    }
   ],
   "source": [
    "pd.read_csv('network_collectri.sif', sep='\\t')"
   ]
  },
  {
   "cell_type": "code",
   "execution_count": 60,
   "metadata": {},
   "outputs": [],
   "source": [
    "g = SignedGraph()\n",
    "g.read_signed_sif('toy_net.sif')\n",
    "downstream_nodes = {'d':1, 'e':-1}"
   ]
  },
  {
   "cell_type": "code",
   "execution_count": 61,
   "metadata": {},
   "outputs": [
    {
     "ename": "TypeError",
     "evalue": "SignedNode.get_sign() missing 1 required positional argument: 'adjacent_node'",
     "output_type": "error",
     "traceback": [
      "\u001b[0;31m---------------------------------------------------------------------------\u001b[0m",
      "\u001b[0;31mTypeError\u001b[0m                                 Traceback (most recent call last)",
      "Cell \u001b[0;32mIn[61], line 1\u001b[0m\n\u001b[0;32m----> 1\u001b[0m g\u001b[39m.\u001b[39;49mget_node(\u001b[39m'\u001b[39;49m\u001b[39ma\u001b[39;49m\u001b[39m'\u001b[39;49m)\u001b[39m.\u001b[39;49mget_sign()\n",
      "\u001b[0;31mTypeError\u001b[0m: SignedNode.get_sign() missing 1 required positional argument: 'adjacent_node'"
     ]
    }
   ],
   "source": [
    "g.get_node('a').get_sign()"
   ]
  },
  {
   "cell_type": "code",
   "execution_count": 62,
   "metadata": {},
   "outputs": [],
   "source": [
    "start_node = g.get_node('a')\n",
    "g.double_label(start_node)"
   ]
  },
  {
   "cell_type": "code",
   "execution_count": 22,
   "metadata": {},
   "outputs": [
    {
     "data": {
      "text/plain": [
       "{'a': <__main__.SignedNode at 0x7fad7a46c8e0>,\n",
       " 'b': <__main__.SignedNode at 0x7fad7a7e8520>,\n",
       " 'c': <__main__.SignedNode at 0x7fad7a563880>,\n",
       " 'f': <__main__.SignedNode at 0x7fad7a5883d0>,\n",
       " 'd': <__main__.SignedNode at 0x7fad7a7e8550>,\n",
       " 'e': <__main__.SignedNode at 0x7fad7a589660>}"
      ]
     },
     "execution_count": 22,
     "metadata": {},
     "output_type": "execute_result"
    }
   ],
   "source": [
    "g.nodes_dict"
   ]
  },
  {
   "cell_type": "code",
   "execution_count": 63,
   "metadata": {},
   "outputs": [
    {
     "name": "stdout",
     "output_type": "stream",
     "text": [
      "True\n",
      "True\n",
      "True\n",
      "True\n"
     ]
    }
   ],
   "source": [
    "for i in ['a','b','c','d']:\n",
    "    print(g.nodes_dict[i].visited)"
   ]
  },
  {
   "cell_type": "code",
   "execution_count": 64,
   "metadata": {},
   "outputs": [
    {
     "name": "stdout",
     "output_type": "stream",
     "text": [
      "d b\n"
     ]
    }
   ],
   "source": [
    "for i in ['a','b','c','d']:\n",
    "    if g.nodes_dict[i].parent_nodes[-1] is not None:\n",
    "        print(g.nodes_dict[i].id, g.nodes_dict[i].parent_nodes[-1].id)"
   ]
  },
  {
   "cell_type": "code",
   "execution_count": 65,
   "metadata": {},
   "outputs": [
    {
     "name": "stdout",
     "output_type": "stream",
     "text": [
      "b a\n",
      "c b\n"
     ]
    }
   ],
   "source": [
    "for i in ['a','b','c','d']:\n",
    "    if g.nodes_dict[i].parent_nodes[1] is not None:\n",
    "        print(g.nodes_dict[i].id, g.nodes_dict[i].parent_nodes[1].id)"
   ]
  },
  {
   "cell_type": "code",
   "execution_count": 39,
   "metadata": {},
   "outputs": [
    {
     "data": {
      "text/plain": [
       "'a'"
      ]
     },
     "execution_count": 39,
     "metadata": {},
     "output_type": "execute_result"
    }
   ],
   "source": [
    "g.nodes_dict['f'].parent_nodes[1].id"
   ]
  },
  {
   "cell_type": "code",
   "execution_count": 132,
   "metadata": {},
   "outputs": [],
   "source": [
    "test = None\n",
    "if test:\n",
    "    print(test)"
   ]
  },
  {
   "cell_type": "code",
   "execution_count": 130,
   "metadata": {},
   "outputs": [
    {
     "ename": "AttributeError",
     "evalue": "'NoneType' object has no attribute 'id'",
     "output_type": "error",
     "traceback": [
      "\u001b[0;31m---------------------------------------------------------------------------\u001b[0m",
      "\u001b[0;31mAttributeError\u001b[0m                            Traceback (most recent call last)",
      "Cell \u001b[0;32mIn[130], line 1\u001b[0m\n\u001b[0;32m----> 1\u001b[0m g\u001b[39m.\u001b[39;49mget_signed_subnetwork(\u001b[39m'\u001b[39;49m\u001b[39ma\u001b[39;49m\u001b[39m'\u001b[39;49m, downstream_nodes)\n",
      "Cell \u001b[0;32mIn[128], line 255\u001b[0m, in \u001b[0;36mSignedGraph.get_signed_subnetwork\u001b[0;34m(self, start_ids, downstream_nodes)\u001b[0m\n\u001b[1;32m    253\u001b[0m path \u001b[39m=\u001b[39m {\u001b[39m1\u001b[39m:[target\u001b[39m.\u001b[39mid], \u001b[39m-\u001b[39m\u001b[39m1\u001b[39m:[target\u001b[39m.\u001b[39mid]}\n\u001b[1;32m    254\u001b[0m \u001b[39mif\u001b[39;00m np\u001b[39m.\u001b[39msign(downstream_nodes[node]) \u001b[39m==\u001b[39m \u001b[39m1\u001b[39m:\n\u001b[0;32m--> 255\u001b[0m     \u001b[39mself\u001b[39;49m\u001b[39m.\u001b[39;49mshortest_pos_path(target, path)\n\u001b[1;32m    256\u001b[0m     \u001b[39mif\u001b[39;00m \u001b[39mlen\u001b[39m(path[\u001b[39m1\u001b[39m]) \u001b[39m<\u001b[39m \u001b[39m2\u001b[39m: \u001b[39mcontinue\u001b[39;00m\n\u001b[1;32m    257\u001b[0m     path[\u001b[39m1\u001b[39m]\u001b[39m.\u001b[39mreverse()\n",
      "Cell \u001b[0;32mIn[128], line 233\u001b[0m, in \u001b[0;36mSignedGraph.shortest_pos_path\u001b[0;34m(self, node, path)\u001b[0m\n\u001b[1;32m    231\u001b[0m \u001b[39mdef\u001b[39;00m \u001b[39mshortest_pos_path\u001b[39m(\u001b[39mself\u001b[39m, node, path):\n\u001b[1;32m    232\u001b[0m     \u001b[39mif\u001b[39;00m node\u001b[39m.\u001b[39mparent_nodes[\u001b[39m1\u001b[39m]:\n\u001b[0;32m--> 233\u001b[0m         path[\u001b[39m1\u001b[39m]\u001b[39m.\u001b[39mappend(node\u001b[39m.\u001b[39;49mparent_node\u001b[39m.\u001b[39;49mid)\n\u001b[1;32m    234\u001b[0m         \u001b[39mself\u001b[39m\u001b[39m.\u001b[39mshortest_pos_path(node\u001b[39m.\u001b[39mparent_node, path)\n\u001b[1;32m    235\u001b[0m     \u001b[39mreturn\u001b[39;00m\n",
      "\u001b[0;31mAttributeError\u001b[0m: 'NoneType' object has no attribute 'id'"
     ]
    }
   ],
   "source": []
  },
  {
   "cell_type": "code",
   "execution_count": 168,
   "metadata": {},
   "outputs": [
    {
     "data": {
      "text/plain": [
       "'a'"
      ]
     },
     "execution_count": 168,
     "metadata": {},
     "output_type": "execute_result"
    }
   ],
   "source": [
    "test = {1:['d','c','f','a'], -1:['c','d','e','f']}\n",
    "test[1].reverse()\n",
    "test[1][0]"
   ]
  },
  {
   "cell_type": "code",
   "execution_count": 67,
   "metadata": {},
   "outputs": [
    {
     "data": {
      "text/html": [
       "<div>\n",
       "<style scoped>\n",
       "    .dataframe tbody tr th:only-of-type {\n",
       "        vertical-align: middle;\n",
       "    }\n",
       "\n",
       "    .dataframe tbody tr th {\n",
       "        vertical-align: top;\n",
       "    }\n",
       "\n",
       "    .dataframe thead th {\n",
       "        text-align: right;\n",
       "    }\n",
       "</style>\n",
       "<table border=\"1\" class=\"dataframe\">\n",
       "  <thead>\n",
       "    <tr style=\"text-align: right;\">\n",
       "      <th></th>\n",
       "    </tr>\n",
       "  </thead>\n",
       "  <tbody>\n",
       "  </tbody>\n",
       "</table>\n",
       "</div>"
      ],
      "text/plain": [
       "Empty DataFrame\n",
       "Columns: []\n",
       "Index: []"
      ]
     },
     "execution_count": 67,
     "metadata": {},
     "output_type": "execute_result"
    }
   ],
   "source": [
    "g.get_signed_subnetwork(downstream_nodes = {'d':1}, start_ids='a')\n",
    "g.subnetwork.net"
   ]
  },
  {
   "cell_type": "code",
   "execution_count": null,
   "metadata": {},
   "outputs": [],
   "source": []
  },
  {
   "cell_type": "code",
   "execution_count": null,
   "metadata": {},
   "outputs": [],
   "source": []
  },
  {
   "cell_type": "code",
   "execution_count": null,
   "metadata": {},
   "outputs": [],
   "source": []
  },
  {
   "cell_type": "code",
   "execution_count": null,
   "metadata": {},
   "outputs": [],
   "source": []
  },
  {
   "cell_type": "code",
   "execution_count": null,
   "metadata": {},
   "outputs": [],
   "source": []
  },
  {
   "cell_type": "code",
   "execution_count": null,
   "metadata": {},
   "outputs": [],
   "source": []
  },
  {
   "cell_type": "code",
   "execution_count": null,
   "metadata": {},
   "outputs": [],
   "source": [
    "\n",
    "    \n",
    "def double_label(aGraph, start_node):\n",
    "    start_node.distances =  {1: 0, -1: sys.maxsize}\n",
    "\n",
    "    # Priority queue, it gets the node with the smallest distance from the list within the unvisited nodes\n",
    "    unvisited_queue = [(min(node.distances[1], node.distances[-1]), node) for node in self]\n",
    "    heapq.heapify(unvisited_queue)\n",
    "\n",
    "    while len(unvisited_queue):\n",
    "        # gets the node with the smallest distance \n",
    "        clostest_node = heapq.heappop(unvisited_queue)\n",
    "        current_node = clostest_node[1]\n",
    "        current_node.set_visited()\n",
    "        new_dist = {}\n",
    "        # checks the adjacent nodes, doesn't recheck if visited.\n",
    "        # it relaxes the edges by checking if there are quicker paths to a node than the ones already explored\n",
    "        for adjacent_node in current_node.adjacent:\n",
    "            if adjacent_node.visited:\n",
    "                continue\n",
    "            \n",
    "            adj_sign = adjacent_node.get_sign()\n",
    "            \n",
    "            new_dist = current_node.distances[adj_sign] + current_node.get_weight(adjacent_node)\n",
    "\n",
    "            if adjacent_node.distances[adj_sign] > (current_node.distances[adj_sign] + current_node.get_weight(adjacent_node)) and adj_sign == 1:\n",
    "                    adjacent_node.distances[adj_sign] = new_dist\n",
    "                    adjacent_node.parent_nodes[adj_sign] = current_node\n",
    "            \n",
    "            if adjacent_node.distances[-adj_sign] > (current_node.distances[-adj_sign] + current_node.get_weight(adjacent_node)) and adj_sign == 1:\n",
    "                    adjacent_node.distances[-adj_sign] = new_dist\n",
    "                    adjacent_node.parent_nodes[-adj_sign] = current_node\n",
    "            \n",
    "            if adjacent_node.distances[-adj_sign] > (current_node.distances[adj_sign] + current_node.get_weight(adjacent_node)) and adj_sign == -1:\n",
    "                    adjacent_node.distances[-adj_sign] = new_dist\n",
    "                    adjacent_node.parent_nodes[-adj_sign] = current_node\n",
    "            \n",
    "            if adjacent_node.distances[adj_sign] > (current_node.distances[-adj_sign] + current_node.get_weight(adjacent_node)) and adj_sign == -1:\n",
    "                    adjacent_node.distances[adj_sign] = new_dist\n",
    "                    adjacent_node.parent_nodes[adj_sign] = current_node\n",
    "\n",
    "        # Rebuild the quieue\n",
    "        # empty the list\n",
    "        while len(unvisited_queue):\n",
    "            heapq.heappop(unvisited_queue)\n",
    "        # resets the queue\n",
    "        unvisited_queue = [(node.distance, node) for node in self if not node.visited]\n",
    "        heapq.heapify(unvisited_queue)\n",
    "        \n"
   ]
  }
 ],
 "metadata": {
  "kernelspec": {
   "display_name": "Python 3",
   "language": "python",
   "name": "python3"
  },
  "language_info": {
   "codemirror_mode": {
    "name": "ipython",
    "version": 3
   },
   "file_extension": ".py",
   "mimetype": "text/x-python",
   "name": "python",
   "nbconvert_exporter": "python",
   "pygments_lexer": "ipython3",
   "version": "3.10.6"
  },
  "orig_nbformat": 4
 },
 "nbformat": 4,
 "nbformat_minor": 2
}
